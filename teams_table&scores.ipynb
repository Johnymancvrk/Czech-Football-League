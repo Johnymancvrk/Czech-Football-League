{
 "cells": [
  {
   "cell_type": "markdown",
   "metadata": {},
   "source": [
    "## Teams: League Table & Scores"
   ]
  },
  {
   "cell_type": "markdown",
   "metadata": {},
   "source": [
    "### Current League Table"
   ]
  },
  {
   "cell_type": "code",
   "execution_count": 1,
   "metadata": {},
   "outputs": [],
   "source": [
    "import pandas as pd"
   ]
  },
  {
   "cell_type": "code",
   "execution_count": 2,
   "metadata": {},
   "outputs": [
    {
     "name": "stdout",
     "output_type": "stream",
     "text": [
      "    Rk           Squad  MP   W  D  L  GF  GA  GDiff  Pts     Last 5  \\\n",
      "0    1   Slavia Prague  13  11  2  0  36   4     32   35  D W W W W   \n",
      "1    2        Jablonec  14   9  2  3  26  15     11   29  W W D W W   \n",
      "2    3   Sparta Prague  13   9  1  3  29  18     11   28  W L W W D   \n",
      "3    4   Sigma Olomouc  14   5  7  2  20  15      5   22  D D D D L   \n",
      "4    5    FK Pardubice  14   6  4  4  15  15      0   22  D W L D W   \n",
      "5    6        Slovácko  13   6  3  4  23  15      8   21  D L L W W   \n",
      "6    7  Slovan Liberec  13   6  3  4  20  15      5   21  D L W W D   \n",
      "7    8   Baník Ostrava  12   6  3  3  18  10      8   21  W W W D W   \n",
      "8    9         Karviná  14   5  5  4  14  18     -4   20  W D D W L   \n",
      "9   10  Viktoria Plzeň  14   6  2  6  28  21      7   20  L L W L L   \n",
      "10  11         Teplice  14   5  1  8  16  28    -12   16  W D L W W   \n",
      "11  12     Fastav Zlín  13   5  1  7  15  17     -2   16  W L L D L   \n",
      "12  13  České Budĕjov.  13   3  6  4  17  22     -5   15  D W D D L   \n",
      "13  14  Bohemians 1905  13   4  2  7  16  18     -2   14  D L L W L   \n",
      "14  15         Příbram  13   2  3  8  10  28    -18    9  W D W L L   \n",
      "15  16  Zbrojovka Brno  14   2  3  9  12  27    -15    9  L L W L L   \n",
      "16  17  Mladá Boleslav  14   2  3  9  16  28    -12    9  L D L L L   \n",
      "17  18           Opava  12   1  3  8  10  27    -17    6  L L L D L   \n",
      "\n",
      "    Attendance                       Top Team Scorer        Goalkeeper  Notes  \n",
      "0         2308                     Abdallah Sima - 7      Ondřej Kolář    NaN  \n",
      "1          825                      Ivan Schranz - 6         Jan Hanuš    NaN  \n",
      "2         1652                      Lukáš Juliš - 10        Milan Heča    NaN  \n",
      "3          936       Martin Nešpor, David Houska - 3      Aleš Mandous    NaN  \n",
      "4          673                         David Huf - 5       Marek Boháč    NaN  \n",
      "5          569                 Vlastimil Daníček - 4       Vít Nemrava    NaN  \n",
      "6         1124                   Michael Rabušic - 6      Filip Nguyen    NaN  \n",
      "7         2210           Dyjan Carlos De Azevedo - 6      Jan Laštůvka    NaN  \n",
      "8          844   Kristi Qose, Michal Papadopulos - 3        Petr Bolek    NaN  \n",
      "9         1523  Aleš Čermák, Jean-David Beauguel - 6       Aleš Hruška    NaN  \n",
      "10         584                       Jakub Mareš - 5      Tomáš Grigar    NaN  \n",
      "11         982                      Tomáš Poznar - 5  Stanislav Dostál    NaN  \n",
      "12         627                   Patrik Brandner - 5   Jaroslav Drobný    NaN  \n",
      "13        1074                       Petr Hronek - 3   Patrik Le Giang    NaN  \n",
      "14         631   Stanislav Vávra, Tomáš Pilík... - 2       Ondřej Kočí    NaN  \n",
      "15        1387  Peter Štepanovský, Jan Hladík... - 2       Jiří Floder    NaN  \n",
      "16         527                        Jiří Klíma - 4      Petr Mikulec    NaN  \n",
      "17         992           Jan Zidek, Karol Mondek - 2    Vilem Fendrich    NaN  \n"
     ]
    },
    {
     "data": {
      "text/plain": [
       "pandas.core.frame.DataFrame"
      ]
     },
     "execution_count": 2,
     "metadata": {},
     "output_type": "execute_result"
    }
   ],
   "source": [
    "url = 'https://fbref.com/en/comps/66/Czech-First-League-Stats'\n",
    "tables_list = pd.read_html(url)\n",
    "table_df = pd.DataFrame(tables_list[0])\n",
    "print(table_df)\n",
    "type(table_df)"
   ]
  },
  {
   "cell_type": "markdown",
   "metadata": {},
   "source": [
    "### Scores and Fixtures for Seasons 2016/2017 - 2020/2021"
   ]
  },
  {
   "cell_type": "code",
   "execution_count": 3,
   "metadata": {},
   "outputs": [
    {
     "name": "stdout",
     "output_type": "stream",
     "text": [
      "        Wk  Day        Date   Time              Home Score            Away  \\\n",
      "0      1.0  Sat  2016-07-30  15:00  Vysočina Jihlava   1–2  Viktoria Plzeň   \n",
      "1      1.0  Sat  2016-07-30  17:00          Jablonec   5–3         Karviná   \n",
      "2      1.0  Sat  2016-07-30  17:00       Fastav Zlín   2–0         Příbram   \n",
      "3      1.0  Sat  2016-07-30  20:15     Sparta Prague   3–2        Slovácko   \n",
      "4      1.0  Sun  2016-07-31  16:30    Mladá Boleslav   3–0  Slovan Liberec   \n",
      "...    ...  ...         ...    ...               ...   ...             ...   \n",
      "1457  34.0  Fri  2021-05-28    NaN          Slovácko   NaN     Fastav Zlín   \n",
      "1458  34.0  Fri  2021-05-28    NaN     Slavia Prague   NaN  České Budĕjov.   \n",
      "1459  34.0  Fri  2021-05-28    NaN      FK Pardubice   NaN        Jablonec   \n",
      "1460   NaN  NaN         NaN    NaN               NaN   NaN             NaN   \n",
      "1461  13.0  Wed  2021-06-30  18:30             Opava   NaN   Sparta Prague   \n",
      "\n",
      "      Attendance                                        Venue  \\\n",
      "0         4049.0                    Stadion v Jiráskově ulici   \n",
      "1         2570.0                            Stadion Střelnice   \n",
      "2         2336.0                                Stadion Letná   \n",
      "3         7181.0                               Generali Arena   \n",
      "4         4177.0                                 Adidas Aréna   \n",
      "...          ...                                          ...   \n",
      "1457         NaN  Městský fotbalový stadion Miroslava Vale...   \n",
      "1458         NaN                               Sinobo Stadium   \n",
      "1459         NaN                                          NaN   \n",
      "1460         NaN                                          NaN   \n",
      "1461         NaN                   Stadion v Městských sadech   \n",
      "\n",
      "               Referee  Match Report Notes Round  \n",
      "0        Zbyněk Proske  Match Report   NaN   NaN  \n",
      "1           Pavel Orel  Match Report   NaN   NaN  \n",
      "2        Radek Příhoda  Match Report   NaN   NaN  \n",
      "3     Miroslav Zelinka  Match Report   NaN   NaN  \n",
      "4       Petr Ardeleánu  Match Report   NaN   NaN  \n",
      "...                ...           ...   ...   ...  \n",
      "1457               NaN  Head-to-Head   NaN   NaN  \n",
      "1458               NaN  Head-to-Head   NaN   NaN  \n",
      "1459               NaN  Head-to-Head   NaN   NaN  \n",
      "1460               NaN           NaN   NaN   NaN  \n",
      "1461               NaN  Head-to-Head   NaN   NaN  \n",
      "\n",
      "[1462 rows x 13 columns]\n"
     ]
    }
   ],
   "source": [
    "urls = ['https://fbref.com/en/comps/66/1518/schedule/2016-2017-Czech-First-League-Scores-and-Fixtures', 'https://fbref.com/en/comps/66/1623/schedule/2017-2018-Czech-First-League-Scores-and-Fixtures', 'https://fbref.com/en/comps/66/2427/schedule/2018-2019-Czech-First-League-Scores-and-Fixtures', 'https://fbref.com/en/comps/66/3226/schedule/2019-2020-Czech-First-League-Scores-and-Fixtures', 'https://fbref.com/en/comps/66/schedule/Czech-First-League-Scores-and-Fixtures']\n",
    "scores = pd.DataFrame()\n",
    "\n",
    "for url in urls:\n",
    "    scores_list = pd.read_html(url)\n",
    "    scores_df = pd.DataFrame(scores_list[0])\n",
    "    scores = scores.append(scores_df, ignore_index = True, sort = False)\n",
    "    \n",
    "print(scores)"
   ]
  }
 ],
 "metadata": {
  "kernelspec": {
   "display_name": "Python 3",
   "language": "python",
   "name": "python3"
  },
  "language_info": {
   "codemirror_mode": {
    "name": "ipython",
    "version": 3
   },
   "file_extension": ".py",
   "mimetype": "text/x-python",
   "name": "python",
   "nbconvert_exporter": "python",
   "pygments_lexer": "ipython3",
   "version": "3.8.3"
  }
 },
 "nbformat": 4,
 "nbformat_minor": 4
}
